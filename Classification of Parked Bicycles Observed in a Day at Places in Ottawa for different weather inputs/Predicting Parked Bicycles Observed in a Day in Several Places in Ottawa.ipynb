{
 "cells": [
  {
   "cell_type": "markdown",
   "metadata": {},
   "source": [
    "<h1><center>Classification of Parked Bicycles Observed in a Day at Places in Ottawa for different weather inputs</center></h1>"
   ]
  },
  {
   "cell_type": "markdown",
   "metadata": {},
   "source": [
    "# Task:\n",
    "#### 1. Importing libraries\n",
    "#### 2. Importing dataset\n",
    "#### 3. Data pre-processing:\n",
    "    (i)   Summing the counts and creating a new data set\n",
    "    (ii)  Converting columns\n",
    "#### 4. Data Engineering:\n",
    "    (i)   Checking missing data\n",
    "    (ii)  Checking data types:\n",
    "        a) Convering colums\n",
    "        b) Replacing missing values\n",
    "        c) Dropping rows with NaN\n",
    "#### 5. Feature selection:\n",
    "    (i)   Dropping unnecessary columns\n",
    "#### 6. Normalization\n",
    "#### 7. Train-test split\n",
    "#### 8. Applying Classical Machine Learning (ML) Models:  (K-NN, Decision Tree, SVM, Logistic Regression)\n",
    "    (i)   Building model\n",
    "    (ii)  Evaluation:\n",
    "        a) Confusion matrix\n",
    "        b) accuracies\n",
    "#### 9. Result of traditional ML techniques\n",
    "#### 10. Applying artificial neural network (ANN):\n",
    "    (i)   Data preperation for the model\n",
    "    (ii)  Building the model\n",
    "#### 10. Model Evaluation for ANN:\n",
    "    (i)   Accuracy\n",
    "    (ii)  Graph: accuracy & loss"
   ]
  },
  {
   "cell_type": "markdown",
   "metadata": {},
   "source": [
    "# 1. Importing Libraries"
   ]
  },
  {
   "cell_type": "code",
   "execution_count": 118,
   "metadata": {},
   "outputs": [],
   "source": [
    "import pandas as pd\n",
    "import numpy as np\n",
    "import seaborn as sns\n",
    "\n",
    "from sklearn import metrics\n",
    "from sklearn.metrics import confusion_matrix\n",
    "from sklearn.metrics import jaccard_similarity_score\n",
    "from sklearn.metrics import f1_score\n",
    "from sklearn.metrics import log_loss\n",
    "\n",
    "import tensorflow as tf\n",
    "import keras\n",
    "\n",
    "import matplotlib.pyplot as plt\n",
    "%matplotlib inline"
   ]
  },
  {
   "cell_type": "markdown",
   "metadata": {},
   "source": [
    "# 2. Importing dataset"
   ]
  },
  {
   "cell_type": "code",
   "execution_count": 119,
   "metadata": {},
   "outputs": [
    {
     "data": {
      "text/plain": [
       "(23028, 10)"
      ]
     },
     "execution_count": 119,
     "metadata": {},
     "output_type": "execute_result"
    }
   ],
   "source": [
    "df = pd.read_csv(\"data.csv\")\n",
    "df.shape"
   ]
  },
  {
   "cell_type": "code",
   "execution_count": 120,
   "metadata": {},
   "outputs": [
    {
     "data": {
      "text/html": [
       "<div>\n",
       "<style scoped>\n",
       "    .dataframe tbody tr th:only-of-type {\n",
       "        vertical-align: middle;\n",
       "    }\n",
       "\n",
       "    .dataframe tbody tr th {\n",
       "        vertical-align: top;\n",
       "    }\n",
       "\n",
       "    .dataframe thead th {\n",
       "        text-align: right;\n",
       "    }\n",
       "</style>\n",
       "<table border=\"1\" class=\"dataframe\">\n",
       "  <thead>\n",
       "    <tr style=\"text-align: right;\">\n",
       "      <th></th>\n",
       "      <th>location_name</th>\n",
       "      <th>count</th>\n",
       "      <th>max temp</th>\n",
       "      <th>mean temp</th>\n",
       "      <th>min temp</th>\n",
       "      <th>snow on grnd (cm)</th>\n",
       "      <th>total precip (mm)</th>\n",
       "      <th>total rain (mm)</th>\n",
       "      <th>total snow (cm)</th>\n",
       "      <th>date</th>\n",
       "    </tr>\n",
       "  </thead>\n",
       "  <tbody>\n",
       "    <tr>\n",
       "      <th>0</th>\n",
       "      <td>ALEX</td>\n",
       "      <td>0</td>\n",
       "      <td>-14.0</td>\n",
       "      <td>-18.2</td>\n",
       "      <td>-22.3</td>\n",
       "      <td>27.0</td>\n",
       "      <td>0.3</td>\n",
       "      <td>0.0</td>\n",
       "      <td>0.3</td>\n",
       "      <td>2015-02-20</td>\n",
       "    </tr>\n",
       "    <tr>\n",
       "      <th>1</th>\n",
       "      <td>ADAWE BIKE</td>\n",
       "      <td>968</td>\n",
       "      <td>29.5</td>\n",
       "      <td>23.8</td>\n",
       "      <td>18.0</td>\n",
       "      <td>0.0</td>\n",
       "      <td>2.8</td>\n",
       "      <td>2.8</td>\n",
       "      <td>0.0</td>\n",
       "      <td>2016-08-28</td>\n",
       "    </tr>\n",
       "    <tr>\n",
       "      <th>2</th>\n",
       "      <td>COBY</td>\n",
       "      <td>10</td>\n",
       "      <td>-3.0</td>\n",
       "      <td>-9.3</td>\n",
       "      <td>-15.6</td>\n",
       "      <td>1.0</td>\n",
       "      <td>7.0</td>\n",
       "      <td>0.0</td>\n",
       "      <td>9.5</td>\n",
       "      <td>2011-12-25</td>\n",
       "    </tr>\n",
       "    <tr>\n",
       "      <th>3</th>\n",
       "      <td>SOMO</td>\n",
       "      <td>122</td>\n",
       "      <td>14.0</td>\n",
       "      <td>8.8</td>\n",
       "      <td>3.5</td>\n",
       "      <td>0.0</td>\n",
       "      <td>34.4</td>\n",
       "      <td>34.4</td>\n",
       "      <td>0.0</td>\n",
       "      <td>2017-05-01</td>\n",
       "    </tr>\n",
       "    <tr>\n",
       "      <th>4</th>\n",
       "      <td>OYNG</td>\n",
       "      <td>228</td>\n",
       "      <td>15.2</td>\n",
       "      <td>9.4</td>\n",
       "      <td>3.5</td>\n",
       "      <td>0.0</td>\n",
       "      <td>0.0</td>\n",
       "      <td>0.0</td>\n",
       "      <td>0.0</td>\n",
       "      <td>2015-04-27</td>\n",
       "    </tr>\n",
       "  </tbody>\n",
       "</table>\n",
       "</div>"
      ],
      "text/plain": [
       "  location_name  count  max temp  mean temp  min temp  snow on grnd (cm)  \\\n",
       "0          ALEX      0     -14.0      -18.2     -22.3               27.0   \n",
       "1    ADAWE BIKE    968      29.5       23.8      18.0                0.0   \n",
       "2          COBY     10      -3.0       -9.3     -15.6                1.0   \n",
       "3          SOMO    122      14.0        8.8       3.5                0.0   \n",
       "4          OYNG    228      15.2        9.4       3.5                0.0   \n",
       "\n",
       "   total precip (mm)  total rain (mm)  total snow (cm)        date  \n",
       "0                0.3              0.0              0.3  2015-02-20  \n",
       "1                2.8              2.8              0.0  2016-08-28  \n",
       "2                7.0              0.0              9.5  2011-12-25  \n",
       "3               34.4             34.4              0.0  2017-05-01  \n",
       "4                0.0              0.0              0.0  2015-04-27  "
      ]
     },
     "execution_count": 120,
     "metadata": {},
     "output_type": "execute_result"
    }
   ],
   "source": [
    "df.head()"
   ]
  },
  {
   "cell_type": "code",
   "execution_count": 121,
   "metadata": {},
   "outputs": [
    {
     "data": {
      "text/plain": [
       "Index(['location_name', 'count', 'max temp', 'mean temp', 'min temp',\n",
       "       'snow on grnd (cm)', 'total precip (mm)', 'total rain (mm)',\n",
       "       'total snow (cm)', 'date'],\n",
       "      dtype='object')"
      ]
     },
     "execution_count": 121,
     "metadata": {},
     "output_type": "execute_result"
    }
   ],
   "source": [
    "df.columns"
   ]
  },
  {
   "cell_type": "markdown",
   "metadata": {},
   "source": [
    "# 3. Data Preprocessing"
   ]
  },
  {
   "cell_type": "markdown",
   "metadata": {},
   "source": [
    "### (i) Summing the counts at different locations in a day. In other words, you are creating a new `DataFrame` that contains the following columns:"
   ]
  },
  {
   "cell_type": "code",
   "execution_count": 122,
   "metadata": {},
   "outputs": [],
   "source": [
    "#df.groupby(['date','location_name'])['count'].sum()\n"
   ]
  },
  {
   "cell_type": "code",
   "execution_count": 123,
   "metadata": {},
   "outputs": [],
   "source": [
    "df_group_one = df[['location_name','date','count']]"
   ]
  },
  {
   "cell_type": "code",
   "execution_count": 124,
   "metadata": {
    "scrolled": true
   },
   "outputs": [
    {
     "data": {
      "text/html": [
       "<div>\n",
       "<style scoped>\n",
       "    .dataframe tbody tr th:only-of-type {\n",
       "        vertical-align: middle;\n",
       "    }\n",
       "\n",
       "    .dataframe tbody tr th {\n",
       "        vertical-align: top;\n",
       "    }\n",
       "\n",
       "    .dataframe thead th {\n",
       "        text-align: right;\n",
       "    }\n",
       "</style>\n",
       "<table border=\"1\" class=\"dataframe\">\n",
       "  <thead>\n",
       "    <tr style=\"text-align: right;\">\n",
       "      <th></th>\n",
       "      <th>location_name</th>\n",
       "      <th>count</th>\n",
       "    </tr>\n",
       "  </thead>\n",
       "  <tbody>\n",
       "    <tr>\n",
       "      <th>0</th>\n",
       "      <td>ADAWE BIKE</td>\n",
       "      <td>855439</td>\n",
       "    </tr>\n",
       "    <tr>\n",
       "      <th>1</th>\n",
       "      <td>ADAWE PED</td>\n",
       "      <td>1187009</td>\n",
       "    </tr>\n",
       "    <tr>\n",
       "      <th>2</th>\n",
       "      <td>ALEX</td>\n",
       "      <td>2408432</td>\n",
       "    </tr>\n",
       "    <tr>\n",
       "      <th>3</th>\n",
       "      <td>COBY</td>\n",
       "      <td>2299955</td>\n",
       "    </tr>\n",
       "    <tr>\n",
       "      <th>4</th>\n",
       "      <td>CRTZ</td>\n",
       "      <td>1812204</td>\n",
       "    </tr>\n",
       "    <tr>\n",
       "      <th>5</th>\n",
       "      <td>LBAY</td>\n",
       "      <td>228976</td>\n",
       "    </tr>\n",
       "    <tr>\n",
       "      <th>6</th>\n",
       "      <td>LLYN</td>\n",
       "      <td>1232905</td>\n",
       "    </tr>\n",
       "    <tr>\n",
       "      <th>7</th>\n",
       "      <td>LMET</td>\n",
       "      <td>2479572</td>\n",
       "    </tr>\n",
       "    <tr>\n",
       "      <th>8</th>\n",
       "      <td>OBVW</td>\n",
       "      <td>689298</td>\n",
       "    </tr>\n",
       "    <tr>\n",
       "      <th>9</th>\n",
       "      <td>OGLD</td>\n",
       "      <td>794778</td>\n",
       "    </tr>\n",
       "    <tr>\n",
       "      <th>10</th>\n",
       "      <td>ORPY</td>\n",
       "      <td>3131803</td>\n",
       "    </tr>\n",
       "    <tr>\n",
       "      <th>11</th>\n",
       "      <td>OYNG</td>\n",
       "      <td>371650</td>\n",
       "    </tr>\n",
       "    <tr>\n",
       "      <th>12</th>\n",
       "      <td>PORTAGE</td>\n",
       "      <td>689576</td>\n",
       "    </tr>\n",
       "    <tr>\n",
       "      <th>13</th>\n",
       "      <td>SOMO</td>\n",
       "      <td>783572</td>\n",
       "    </tr>\n",
       "  </tbody>\n",
       "</table>\n",
       "</div>"
      ],
      "text/plain": [
       "   location_name    count\n",
       "0     ADAWE BIKE   855439\n",
       "1      ADAWE PED  1187009\n",
       "2           ALEX  2408432\n",
       "3           COBY  2299955\n",
       "4           CRTZ  1812204\n",
       "5           LBAY   228976\n",
       "6           LLYN  1232905\n",
       "7           LMET  2479572\n",
       "8           OBVW   689298\n",
       "9           OGLD   794778\n",
       "10          ORPY  3131803\n",
       "11          OYNG   371650\n",
       "12       PORTAGE   689576\n",
       "13          SOMO   783572"
      ]
     },
     "execution_count": 124,
     "metadata": {},
     "output_type": "execute_result"
    }
   ],
   "source": [
    "df_group_one = df_group_one.groupby(['location_name'],as_index=False).sum()\n",
    "df_group_one"
   ]
  },
  {
   "cell_type": "code",
   "execution_count": 125,
   "metadata": {},
   "outputs": [
    {
     "name": "stdout",
     "output_type": "stream",
     "text": [
      "Max Count:  27833\n",
      "Min Count:  0\n",
      "Data shape (3282, 9)\n"
     ]
    },
    {
     "data": {
      "text/html": [
       "<div>\n",
       "<style scoped>\n",
       "    .dataframe tbody tr th:only-of-type {\n",
       "        vertical-align: middle;\n",
       "    }\n",
       "\n",
       "    .dataframe tbody tr th {\n",
       "        vertical-align: top;\n",
       "    }\n",
       "\n",
       "    .dataframe thead th {\n",
       "        text-align: right;\n",
       "    }\n",
       "</style>\n",
       "<table border=\"1\" class=\"dataframe\">\n",
       "  <thead>\n",
       "    <tr style=\"text-align: right;\">\n",
       "      <th></th>\n",
       "      <th>date</th>\n",
       "      <th>max temp</th>\n",
       "      <th>mean temp</th>\n",
       "      <th>min temp</th>\n",
       "      <th>snow on grnd (cm)</th>\n",
       "      <th>total precip (mm)</th>\n",
       "      <th>total rain (mm)</th>\n",
       "      <th>total snow (cm)</th>\n",
       "      <th>count</th>\n",
       "    </tr>\n",
       "  </thead>\n",
       "  <tbody>\n",
       "    <tr>\n",
       "      <th>0</th>\n",
       "      <td>2010-01-01</td>\n",
       "      <td>-7.5</td>\n",
       "      <td>-12.3</td>\n",
       "      <td>-17.1</td>\n",
       "      <td>54.0</td>\n",
       "      <td>15.0</td>\n",
       "      <td>0.0</td>\n",
       "      <td>22.8</td>\n",
       "      <td>0</td>\n",
       "    </tr>\n",
       "    <tr>\n",
       "      <th>1</th>\n",
       "      <td>2010-01-02</td>\n",
       "      <td>-23.8</td>\n",
       "      <td>-26.6</td>\n",
       "      <td>-29.2</td>\n",
       "      <td>42.0</td>\n",
       "      <td>3.8</td>\n",
       "      <td>0.0</td>\n",
       "      <td>5.2</td>\n",
       "      <td>0</td>\n",
       "    </tr>\n",
       "    <tr>\n",
       "      <th>2</th>\n",
       "      <td>2010-01-03</td>\n",
       "      <td>-23.4</td>\n",
       "      <td>-34.2</td>\n",
       "      <td>-45.0</td>\n",
       "      <td>63.0</td>\n",
       "      <td>6.0</td>\n",
       "      <td>0.0</td>\n",
       "      <td>9.0</td>\n",
       "      <td>0</td>\n",
       "    </tr>\n",
       "    <tr>\n",
       "      <th>3</th>\n",
       "      <td>2010-01-04</td>\n",
       "      <td>-22.5</td>\n",
       "      <td>-27.0</td>\n",
       "      <td>-31.5</td>\n",
       "      <td>63.0</td>\n",
       "      <td>3.0</td>\n",
       "      <td>0.0</td>\n",
       "      <td>6.0</td>\n",
       "      <td>0</td>\n",
       "    </tr>\n",
       "    <tr>\n",
       "      <th>4</th>\n",
       "      <td>2010-01-05</td>\n",
       "      <td>-10.0</td>\n",
       "      <td>-15.6</td>\n",
       "      <td>-21.2</td>\n",
       "      <td>42.0</td>\n",
       "      <td>2.0</td>\n",
       "      <td>0.0</td>\n",
       "      <td>3.0</td>\n",
       "      <td>0</td>\n",
       "    </tr>\n",
       "  </tbody>\n",
       "</table>\n",
       "</div>"
      ],
      "text/plain": [
       "         date  max temp  mean temp  min temp  snow on grnd (cm)  \\\n",
       "0  2010-01-01      -7.5      -12.3     -17.1               54.0   \n",
       "1  2010-01-02     -23.8      -26.6     -29.2               42.0   \n",
       "2  2010-01-03     -23.4      -34.2     -45.0               63.0   \n",
       "3  2010-01-04     -22.5      -27.0     -31.5               63.0   \n",
       "4  2010-01-05     -10.0      -15.6     -21.2               42.0   \n",
       "\n",
       "   total precip (mm)  total rain (mm)  total snow (cm)  count  \n",
       "0               15.0              0.0             22.8      0  \n",
       "1                3.8              0.0              5.2      0  \n",
       "2                6.0              0.0              9.0      0  \n",
       "3                3.0              0.0              6.0      0  \n",
       "4                2.0              0.0              3.0      0  "
      ]
     },
     "execution_count": 125,
     "metadata": {},
     "output_type": "execute_result"
    }
   ],
   "source": [
    "df_gptest = df[['date','max temp', 'mean temp', 'min temp',\n",
    "       'snow on grnd (cm)', 'total precip (mm)', 'total rain (mm)',\n",
    "       'total snow (cm)','count']]\n",
    "grouped_test1 = df_gptest.groupby(['date'],as_index=False).sum()\n",
    "\n",
    "print(\"Max Count: \", max(grouped_test1['count']))\n",
    "print(\"Min Count: \",min(grouped_test1['count']))\n",
    "print(\"Data shape\",grouped_test1.shape)\n",
    "\n",
    "grouped_test1.head()"
   ]
  },
  {
   "cell_type": "markdown",
   "metadata": {},
   "source": [
    "#### Creating new data frame"
   ]
  },
  {
   "cell_type": "code",
   "execution_count": 126,
   "metadata": {},
   "outputs": [
    {
     "name": "stdout",
     "output_type": "stream",
     "text": [
      "(3282, 9)\n"
     ]
    },
    {
     "data": {
      "text/html": [
       "<div>\n",
       "<style scoped>\n",
       "    .dataframe tbody tr th:only-of-type {\n",
       "        vertical-align: middle;\n",
       "    }\n",
       "\n",
       "    .dataframe tbody tr th {\n",
       "        vertical-align: top;\n",
       "    }\n",
       "\n",
       "    .dataframe thead th {\n",
       "        text-align: right;\n",
       "    }\n",
       "</style>\n",
       "<table border=\"1\" class=\"dataframe\">\n",
       "  <thead>\n",
       "    <tr style=\"text-align: right;\">\n",
       "      <th></th>\n",
       "      <th>date</th>\n",
       "      <th>max_temp</th>\n",
       "      <th>mean_temp</th>\n",
       "      <th>min_temp</th>\n",
       "      <th>snow_on_grnd_(cm)</th>\n",
       "      <th>total_precip_(mm)</th>\n",
       "      <th>total_rain_(mm)</th>\n",
       "      <th>total_snow_(cm)</th>\n",
       "      <th>total_count</th>\n",
       "    </tr>\n",
       "  </thead>\n",
       "  <tbody>\n",
       "    <tr>\n",
       "      <th>0</th>\n",
       "      <td>2010-01-01</td>\n",
       "      <td>-7.5</td>\n",
       "      <td>-12.3</td>\n",
       "      <td>-17.1</td>\n",
       "      <td>54.0</td>\n",
       "      <td>15.0</td>\n",
       "      <td>0.0</td>\n",
       "      <td>22.8</td>\n",
       "      <td>0</td>\n",
       "    </tr>\n",
       "    <tr>\n",
       "      <th>1</th>\n",
       "      <td>2010-01-02</td>\n",
       "      <td>-23.8</td>\n",
       "      <td>-26.6</td>\n",
       "      <td>-29.2</td>\n",
       "      <td>42.0</td>\n",
       "      <td>3.8</td>\n",
       "      <td>0.0</td>\n",
       "      <td>5.2</td>\n",
       "      <td>0</td>\n",
       "    </tr>\n",
       "    <tr>\n",
       "      <th>2</th>\n",
       "      <td>2010-01-03</td>\n",
       "      <td>-23.4</td>\n",
       "      <td>-34.2</td>\n",
       "      <td>-45.0</td>\n",
       "      <td>63.0</td>\n",
       "      <td>6.0</td>\n",
       "      <td>0.0</td>\n",
       "      <td>9.0</td>\n",
       "      <td>0</td>\n",
       "    </tr>\n",
       "    <tr>\n",
       "      <th>3</th>\n",
       "      <td>2010-01-04</td>\n",
       "      <td>-22.5</td>\n",
       "      <td>-27.0</td>\n",
       "      <td>-31.5</td>\n",
       "      <td>63.0</td>\n",
       "      <td>3.0</td>\n",
       "      <td>0.0</td>\n",
       "      <td>6.0</td>\n",
       "      <td>0</td>\n",
       "    </tr>\n",
       "    <tr>\n",
       "      <th>4</th>\n",
       "      <td>2010-01-05</td>\n",
       "      <td>-10.0</td>\n",
       "      <td>-15.6</td>\n",
       "      <td>-21.2</td>\n",
       "      <td>42.0</td>\n",
       "      <td>2.0</td>\n",
       "      <td>0.0</td>\n",
       "      <td>3.0</td>\n",
       "      <td>0</td>\n",
       "    </tr>\n",
       "  </tbody>\n",
       "</table>\n",
       "</div>"
      ],
      "text/plain": [
       "         date  max_temp  mean_temp  min_temp  snow_on_grnd_(cm)  \\\n",
       "0  2010-01-01      -7.5      -12.3     -17.1               54.0   \n",
       "1  2010-01-02     -23.8      -26.6     -29.2               42.0   \n",
       "2  2010-01-03     -23.4      -34.2     -45.0               63.0   \n",
       "3  2010-01-04     -22.5      -27.0     -31.5               63.0   \n",
       "4  2010-01-05     -10.0      -15.6     -21.2               42.0   \n",
       "\n",
       "   total_precip_(mm)  total_rain_(mm)  total_snow_(cm)  total_count  \n",
       "0               15.0              0.0             22.8            0  \n",
       "1                3.8              0.0              5.2            0  \n",
       "2                6.0              0.0              9.0            0  \n",
       "3                3.0              0.0              6.0            0  \n",
       "4                2.0              0.0              3.0            0  "
      ]
     },
     "execution_count": 126,
     "metadata": {},
     "output_type": "execute_result"
    }
   ],
   "source": [
    "#df.drop(['date'], axis=1, inplace=True)\n",
    "df = grouped_test1.rename(columns={'max temp': 'max_temp','mean temp': 'mean_temp','min temp': 'min_temp','snow on grnd (cm)': 'snow_on_grnd_(cm)','total precip (mm)': 'total_precip_(mm)', 'total rain (mm)': 'total_rain_(mm)',  'total snow (cm)': 'total_snow_(cm)','count': 'total_count'})\n",
    "print(df.shape)\n",
    "df.head()"
   ]
  },
  {
   "cell_type": "markdown",
   "metadata": {},
   "source": [
    "### (ii) Converting the numerical column `total count` into three categories: *less than 2000*, *2000 to 10000* and *over 10000*. Save the `processed_df` to `processed_data.csv`."
   ]
  },
  {
   "cell_type": "code",
   "execution_count": 127,
   "metadata": {},
   "outputs": [
    {
     "data": {
      "text/plain": [
       "array([    0.,  2000., 10000., 27833.])"
      ]
     },
     "execution_count": 127,
     "metadata": {},
     "output_type": "execute_result"
    }
   ],
   "source": [
    "#bins = np.linspace(min(df[\"total_count\"]), max(df[\"total_count\"]), 4)\n",
    "\n",
    "bins = np.array([min(df[\"total_count\"]), 2000.0, 10000.0, max(df[\"total_count\"])])\n",
    "bins"
   ]
  },
  {
   "cell_type": "code",
   "execution_count": 128,
   "metadata": {},
   "outputs": [],
   "source": [
    "group_names = [\"less than 2000\", \"2000 to 10000\", \"over 10000\"]"
   ]
  },
  {
   "cell_type": "code",
   "execution_count": 129,
   "metadata": {},
   "outputs": [],
   "source": [
    "df['total_count_binned'] = pd.cut(df['total_count'], bins, labels=group_names )\n",
    "df.drop(['total_count'], axis=1, inplace=True)\n",
    "df = df.rename(columns={'total_count_binned': 'total_count'})"
   ]
  },
  {
   "cell_type": "code",
   "execution_count": 130,
   "metadata": {},
   "outputs": [
    {
     "data": {
      "text/plain": [
       "2000 to 10000     1215\n",
       "less than 2000    1210\n",
       "over 10000         807\n",
       "Name: total_count, dtype: int64"
      ]
     },
     "execution_count": 130,
     "metadata": {},
     "output_type": "execute_result"
    }
   ],
   "source": [
    "df['total_count'].value_counts()"
   ]
  },
  {
   "cell_type": "code",
   "execution_count": 131,
   "metadata": {},
   "outputs": [
    {
     "data": {
      "text/html": [
       "<div>\n",
       "<style scoped>\n",
       "    .dataframe tbody tr th:only-of-type {\n",
       "        vertical-align: middle;\n",
       "    }\n",
       "\n",
       "    .dataframe tbody tr th {\n",
       "        vertical-align: top;\n",
       "    }\n",
       "\n",
       "    .dataframe thead th {\n",
       "        text-align: right;\n",
       "    }\n",
       "</style>\n",
       "<table border=\"1\" class=\"dataframe\">\n",
       "  <thead>\n",
       "    <tr style=\"text-align: right;\">\n",
       "      <th></th>\n",
       "      <th>date</th>\n",
       "      <th>max_temp</th>\n",
       "      <th>mean_temp</th>\n",
       "      <th>min_temp</th>\n",
       "      <th>snow_on_grnd_(cm)</th>\n",
       "      <th>total_precip_(mm)</th>\n",
       "      <th>total_rain_(mm)</th>\n",
       "      <th>total_snow_(cm)</th>\n",
       "      <th>total_count</th>\n",
       "    </tr>\n",
       "  </thead>\n",
       "  <tbody>\n",
       "    <tr>\n",
       "      <th>0</th>\n",
       "      <td>2010-01-01</td>\n",
       "      <td>-7.5</td>\n",
       "      <td>-12.3</td>\n",
       "      <td>-17.1</td>\n",
       "      <td>54.0</td>\n",
       "      <td>15.0</td>\n",
       "      <td>0.0</td>\n",
       "      <td>22.8</td>\n",
       "      <td>NaN</td>\n",
       "    </tr>\n",
       "    <tr>\n",
       "      <th>1</th>\n",
       "      <td>2010-01-02</td>\n",
       "      <td>-23.8</td>\n",
       "      <td>-26.6</td>\n",
       "      <td>-29.2</td>\n",
       "      <td>42.0</td>\n",
       "      <td>3.8</td>\n",
       "      <td>0.0</td>\n",
       "      <td>5.2</td>\n",
       "      <td>NaN</td>\n",
       "    </tr>\n",
       "    <tr>\n",
       "      <th>2</th>\n",
       "      <td>2010-01-03</td>\n",
       "      <td>-23.4</td>\n",
       "      <td>-34.2</td>\n",
       "      <td>-45.0</td>\n",
       "      <td>63.0</td>\n",
       "      <td>6.0</td>\n",
       "      <td>0.0</td>\n",
       "      <td>9.0</td>\n",
       "      <td>NaN</td>\n",
       "    </tr>\n",
       "    <tr>\n",
       "      <th>3</th>\n",
       "      <td>2010-01-04</td>\n",
       "      <td>-22.5</td>\n",
       "      <td>-27.0</td>\n",
       "      <td>-31.5</td>\n",
       "      <td>63.0</td>\n",
       "      <td>3.0</td>\n",
       "      <td>0.0</td>\n",
       "      <td>6.0</td>\n",
       "      <td>NaN</td>\n",
       "    </tr>\n",
       "    <tr>\n",
       "      <th>4</th>\n",
       "      <td>2010-01-05</td>\n",
       "      <td>-10.0</td>\n",
       "      <td>-15.6</td>\n",
       "      <td>-21.2</td>\n",
       "      <td>42.0</td>\n",
       "      <td>2.0</td>\n",
       "      <td>0.0</td>\n",
       "      <td>3.0</td>\n",
       "      <td>NaN</td>\n",
       "    </tr>\n",
       "  </tbody>\n",
       "</table>\n",
       "</div>"
      ],
      "text/plain": [
       "         date  max_temp  mean_temp  min_temp  snow_on_grnd_(cm)  \\\n",
       "0  2010-01-01      -7.5      -12.3     -17.1               54.0   \n",
       "1  2010-01-02     -23.8      -26.6     -29.2               42.0   \n",
       "2  2010-01-03     -23.4      -34.2     -45.0               63.0   \n",
       "3  2010-01-04     -22.5      -27.0     -31.5               63.0   \n",
       "4  2010-01-05     -10.0      -15.6     -21.2               42.0   \n",
       "\n",
       "   total_precip_(mm)  total_rain_(mm)  total_snow_(cm) total_count  \n",
       "0               15.0              0.0             22.8         NaN  \n",
       "1                3.8              0.0              5.2         NaN  \n",
       "2                6.0              0.0              9.0         NaN  \n",
       "3                3.0              0.0              6.0         NaN  \n",
       "4                2.0              0.0              3.0         NaN  "
      ]
     },
     "execution_count": 131,
     "metadata": {},
     "output_type": "execute_result"
    }
   ],
   "source": [
    "processed_df= df\n",
    "processed_df.head()"
   ]
  },
  {
   "cell_type": "code",
   "execution_count": 132,
   "metadata": {},
   "outputs": [],
   "source": [
    "#processed_df.to_csv('processed_data.csv')"
   ]
  },
  {
   "cell_type": "markdown",
   "metadata": {},
   "source": [
    "# 4. Data engineering"
   ]
  },
  {
   "cell_type": "markdown",
   "metadata": {},
   "source": [
    "### (i) Checking missing data"
   ]
  },
  {
   "cell_type": "code",
   "execution_count": 133,
   "metadata": {},
   "outputs": [
    {
     "data": {
      "text/html": [
       "<div>\n",
       "<style scoped>\n",
       "    .dataframe tbody tr th:only-of-type {\n",
       "        vertical-align: middle;\n",
       "    }\n",
       "\n",
       "    .dataframe tbody tr th {\n",
       "        vertical-align: top;\n",
       "    }\n",
       "\n",
       "    .dataframe thead th {\n",
       "        text-align: right;\n",
       "    }\n",
       "</style>\n",
       "<table border=\"1\" class=\"dataframe\">\n",
       "  <thead>\n",
       "    <tr style=\"text-align: right;\">\n",
       "      <th></th>\n",
       "      <th>date</th>\n",
       "      <th>max_temp</th>\n",
       "      <th>mean_temp</th>\n",
       "      <th>min_temp</th>\n",
       "      <th>snow_on_grnd_(cm)</th>\n",
       "      <th>total_precip_(mm)</th>\n",
       "      <th>total_rain_(mm)</th>\n",
       "      <th>total_snow_(cm)</th>\n",
       "      <th>total_count</th>\n",
       "    </tr>\n",
       "  </thead>\n",
       "  <tbody>\n",
       "    <tr>\n",
       "      <th>0</th>\n",
       "      <td>False</td>\n",
       "      <td>False</td>\n",
       "      <td>False</td>\n",
       "      <td>False</td>\n",
       "      <td>False</td>\n",
       "      <td>False</td>\n",
       "      <td>False</td>\n",
       "      <td>False</td>\n",
       "      <td>True</td>\n",
       "    </tr>\n",
       "    <tr>\n",
       "      <th>1</th>\n",
       "      <td>False</td>\n",
       "      <td>False</td>\n",
       "      <td>False</td>\n",
       "      <td>False</td>\n",
       "      <td>False</td>\n",
       "      <td>False</td>\n",
       "      <td>False</td>\n",
       "      <td>False</td>\n",
       "      <td>True</td>\n",
       "    </tr>\n",
       "    <tr>\n",
       "      <th>2</th>\n",
       "      <td>False</td>\n",
       "      <td>False</td>\n",
       "      <td>False</td>\n",
       "      <td>False</td>\n",
       "      <td>False</td>\n",
       "      <td>False</td>\n",
       "      <td>False</td>\n",
       "      <td>False</td>\n",
       "      <td>True</td>\n",
       "    </tr>\n",
       "    <tr>\n",
       "      <th>3</th>\n",
       "      <td>False</td>\n",
       "      <td>False</td>\n",
       "      <td>False</td>\n",
       "      <td>False</td>\n",
       "      <td>False</td>\n",
       "      <td>False</td>\n",
       "      <td>False</td>\n",
       "      <td>False</td>\n",
       "      <td>True</td>\n",
       "    </tr>\n",
       "    <tr>\n",
       "      <th>4</th>\n",
       "      <td>False</td>\n",
       "      <td>False</td>\n",
       "      <td>False</td>\n",
       "      <td>False</td>\n",
       "      <td>False</td>\n",
       "      <td>False</td>\n",
       "      <td>False</td>\n",
       "      <td>False</td>\n",
       "      <td>True</td>\n",
       "    </tr>\n",
       "  </tbody>\n",
       "</table>\n",
       "</div>"
      ],
      "text/plain": [
       "    date  max_temp  mean_temp  min_temp  snow_on_grnd_(cm)  total_precip_(mm)  \\\n",
       "0  False     False      False     False              False              False   \n",
       "1  False     False      False     False              False              False   \n",
       "2  False     False      False     False              False              False   \n",
       "3  False     False      False     False              False              False   \n",
       "4  False     False      False     False              False              False   \n",
       "\n",
       "   total_rain_(mm)  total_snow_(cm)  total_count  \n",
       "0            False            False         True  \n",
       "1            False            False         True  \n",
       "2            False            False         True  \n",
       "3            False            False         True  \n",
       "4            False            False         True  "
      ]
     },
     "execution_count": 133,
     "metadata": {},
     "output_type": "execute_result"
    }
   ],
   "source": [
    "missing_data = processed_df.isnull()\n",
    "missing_data.head(5)"
   ]
  },
  {
   "cell_type": "code",
   "execution_count": 134,
   "metadata": {
    "scrolled": true
   },
   "outputs": [
    {
     "name": "stdout",
     "output_type": "stream",
     "text": [
      "date\n",
      "False    3282\n",
      "Name: date, dtype: int64\n",
      "\n",
      "max_temp\n",
      "False    3282\n",
      "Name: max_temp, dtype: int64\n",
      "\n",
      "mean_temp\n",
      "False    3282\n",
      "Name: mean_temp, dtype: int64\n",
      "\n",
      "min_temp\n",
      "False    3282\n",
      "Name: min_temp, dtype: int64\n",
      "\n",
      "snow_on_grnd_(cm)\n",
      "False    3282\n",
      "Name: snow_on_grnd_(cm), dtype: int64\n",
      "\n",
      "total_precip_(mm)\n",
      "False    3282\n",
      "Name: total_precip_(mm), dtype: int64\n",
      "\n",
      "total_rain_(mm)\n",
      "False    3282\n",
      "Name: total_rain_(mm), dtype: int64\n",
      "\n",
      "total_snow_(cm)\n",
      "False    3282\n",
      "Name: total_snow_(cm), dtype: int64\n",
      "\n",
      "total_count\n",
      "False    3232\n",
      "True       50\n",
      "Name: total_count, dtype: int64\n",
      "\n"
     ]
    }
   ],
   "source": [
    "for column in missing_data.columns.values.tolist():\n",
    "    print(column)\n",
    "    print (missing_data[column].value_counts())\n",
    "    print(\"\") "
   ]
  },
  {
   "cell_type": "markdown",
   "metadata": {},
   "source": [
    "### (ii) Checking data types"
   ]
  },
  {
   "cell_type": "code",
   "execution_count": 135,
   "metadata": {},
   "outputs": [
    {
     "data": {
      "text/plain": [
       "date                   object\n",
       "max_temp              float64\n",
       "mean_temp             float64\n",
       "min_temp              float64\n",
       "snow_on_grnd_(cm)     float64\n",
       "total_precip_(mm)     float64\n",
       "total_rain_(mm)       float64\n",
       "total_snow_(cm)       float64\n",
       "total_count          category\n",
       "dtype: object"
      ]
     },
     "execution_count": 135,
     "metadata": {},
     "output_type": "execute_result"
    }
   ],
   "source": [
    "df.dtypes"
   ]
  },
  {
   "cell_type": "markdown",
   "metadata": {},
   "source": [
    "#### a) Converting total_count column from 'category' to 'object'"
   ]
  },
  {
   "cell_type": "code",
   "execution_count": 136,
   "metadata": {},
   "outputs": [],
   "source": [
    "df['total_count'] = df['total_count'].astype('object')\n",
    "df['date'] = pd.to_datetime(df['date'])"
   ]
  },
  {
   "cell_type": "code",
   "execution_count": 137,
   "metadata": {},
   "outputs": [
    {
     "data": {
      "text/plain": [
       "date                 datetime64[ns]\n",
       "max_temp                    float64\n",
       "mean_temp                   float64\n",
       "min_temp                    float64\n",
       "snow_on_grnd_(cm)           float64\n",
       "total_precip_(mm)           float64\n",
       "total_rain_(mm)             float64\n",
       "total_snow_(cm)             float64\n",
       "total_count                  object\n",
       "dtype: object"
      ]
     },
     "execution_count": 137,
     "metadata": {},
     "output_type": "execute_result"
    }
   ],
   "source": [
    "processed_df.dtypes"
   ]
  },
  {
   "cell_type": "markdown",
   "metadata": {},
   "source": [
    "#### b) Replacing missing values with the mean values of each columns"
   ]
  },
  {
   "cell_type": "code",
   "execution_count": 138,
   "metadata": {},
   "outputs": [
    {
     "name": "stdout",
     "output_type": "stream",
     "text": [
      "(3282, 9)\n"
     ]
    },
    {
     "data": {
      "text/plain": [
       "2000 to 10000     1215\n",
       "less than 2000    1210\n",
       "over 10000         807\n",
       "Name: total_count, dtype: int64"
      ]
     },
     "execution_count": 138,
     "metadata": {},
     "output_type": "execute_result"
    }
   ],
   "source": [
    "print(processed_df.shape)\n",
    "processed_df['total_count'].value_counts()"
   ]
  },
  {
   "cell_type": "markdown",
   "metadata": {},
   "source": [
    "#### c) Dropping whole row with NaN in \"total_count\" column"
   ]
  },
  {
   "cell_type": "code",
   "execution_count": 139,
   "metadata": {},
   "outputs": [],
   "source": [
    "# simply drop whole row with NaN in \"total_count\" column\n",
    "processed_df.dropna(subset=[\"total_count\"], axis=0, inplace=True)\n",
    "\n",
    "# reset index, because we droped two rows\n",
    "processed_df.reset_index(drop=True, inplace=True)"
   ]
  },
  {
   "cell_type": "code",
   "execution_count": 140,
   "metadata": {},
   "outputs": [
    {
     "data": {
      "text/html": [
       "<div>\n",
       "<style scoped>\n",
       "    .dataframe tbody tr th:only-of-type {\n",
       "        vertical-align: middle;\n",
       "    }\n",
       "\n",
       "    .dataframe tbody tr th {\n",
       "        vertical-align: top;\n",
       "    }\n",
       "\n",
       "    .dataframe thead th {\n",
       "        text-align: right;\n",
       "    }\n",
       "</style>\n",
       "<table border=\"1\" class=\"dataframe\">\n",
       "  <thead>\n",
       "    <tr style=\"text-align: right;\">\n",
       "      <th></th>\n",
       "      <th>date</th>\n",
       "      <th>max_temp</th>\n",
       "      <th>mean_temp</th>\n",
       "      <th>min_temp</th>\n",
       "      <th>snow_on_grnd_(cm)</th>\n",
       "      <th>total_precip_(mm)</th>\n",
       "      <th>total_rain_(mm)</th>\n",
       "      <th>total_snow_(cm)</th>\n",
       "      <th>total_count</th>\n",
       "    </tr>\n",
       "  </thead>\n",
       "  <tbody>\n",
       "    <tr>\n",
       "      <th>0</th>\n",
       "      <td>2010-01-28</td>\n",
       "      <td>-6.4</td>\n",
       "      <td>-11.6</td>\n",
       "      <td>-16.6</td>\n",
       "      <td>18.0</td>\n",
       "      <td>3.0</td>\n",
       "      <td>0.0</td>\n",
       "      <td>4.0</td>\n",
       "      <td>less than 2000</td>\n",
       "    </tr>\n",
       "    <tr>\n",
       "      <th>1</th>\n",
       "      <td>2010-02-02</td>\n",
       "      <td>-21.0</td>\n",
       "      <td>-30.9</td>\n",
       "      <td>-40.5</td>\n",
       "      <td>24.0</td>\n",
       "      <td>0.0</td>\n",
       "      <td>0.0</td>\n",
       "      <td>0.0</td>\n",
       "      <td>less than 2000</td>\n",
       "    </tr>\n",
       "    <tr>\n",
       "      <th>2</th>\n",
       "      <td>2010-02-04</td>\n",
       "      <td>-17.1</td>\n",
       "      <td>-31.5</td>\n",
       "      <td>-45.9</td>\n",
       "      <td>27.0</td>\n",
       "      <td>0.0</td>\n",
       "      <td>0.0</td>\n",
       "      <td>0.0</td>\n",
       "      <td>less than 2000</td>\n",
       "    </tr>\n",
       "    <tr>\n",
       "      <th>3</th>\n",
       "      <td>2010-02-06</td>\n",
       "      <td>-23.1</td>\n",
       "      <td>-36.3</td>\n",
       "      <td>-49.5</td>\n",
       "      <td>27.0</td>\n",
       "      <td>0.0</td>\n",
       "      <td>0.0</td>\n",
       "      <td>0.0</td>\n",
       "      <td>less than 2000</td>\n",
       "    </tr>\n",
       "    <tr>\n",
       "      <th>4</th>\n",
       "      <td>2010-02-07</td>\n",
       "      <td>-10.4</td>\n",
       "      <td>-18.0</td>\n",
       "      <td>-25.6</td>\n",
       "      <td>18.0</td>\n",
       "      <td>0.0</td>\n",
       "      <td>0.0</td>\n",
       "      <td>0.0</td>\n",
       "      <td>less than 2000</td>\n",
       "    </tr>\n",
       "  </tbody>\n",
       "</table>\n",
       "</div>"
      ],
      "text/plain": [
       "        date  max_temp  mean_temp  min_temp  snow_on_grnd_(cm)  \\\n",
       "0 2010-01-28      -6.4      -11.6     -16.6               18.0   \n",
       "1 2010-02-02     -21.0      -30.9     -40.5               24.0   \n",
       "2 2010-02-04     -17.1      -31.5     -45.9               27.0   \n",
       "3 2010-02-06     -23.1      -36.3     -49.5               27.0   \n",
       "4 2010-02-07     -10.4      -18.0     -25.6               18.0   \n",
       "\n",
       "   total_precip_(mm)  total_rain_(mm)  total_snow_(cm)     total_count  \n",
       "0                3.0              0.0              4.0  less than 2000  \n",
       "1                0.0              0.0              0.0  less than 2000  \n",
       "2                0.0              0.0              0.0  less than 2000  \n",
       "3                0.0              0.0              0.0  less than 2000  \n",
       "4                0.0              0.0              0.0  less than 2000  "
      ]
     },
     "execution_count": 140,
     "metadata": {},
     "output_type": "execute_result"
    }
   ],
   "source": [
    "processed_df.head()"
   ]
  },
  {
   "cell_type": "code",
   "execution_count": 141,
   "metadata": {
    "scrolled": false
   },
   "outputs": [
    {
     "name": "stdout",
     "output_type": "stream",
     "text": [
      "(3232, 9)\n"
     ]
    },
    {
     "data": {
      "text/plain": [
       "2000 to 10000     1215\n",
       "less than 2000    1210\n",
       "over 10000         807\n",
       "Name: total_count, dtype: int64"
      ]
     },
     "execution_count": 141,
     "metadata": {},
     "output_type": "execute_result"
    }
   ],
   "source": [
    "print(processed_df.shape)\n",
    "processed_df['total_count'].value_counts()"
   ]
  },
  {
   "cell_type": "markdown",
   "metadata": {},
   "source": [
    "# 5. Feature selection"
   ]
  },
  {
   "cell_type": "markdown",
   "metadata": {},
   "source": [
    "### (i) Dropiing unnecessary colums"
   ]
  },
  {
   "cell_type": "code",
   "execution_count": 142,
   "metadata": {},
   "outputs": [
    {
     "data": {
      "text/html": [
       "<div>\n",
       "<style scoped>\n",
       "    .dataframe tbody tr th:only-of-type {\n",
       "        vertical-align: middle;\n",
       "    }\n",
       "\n",
       "    .dataframe tbody tr th {\n",
       "        vertical-align: top;\n",
       "    }\n",
       "\n",
       "    .dataframe thead th {\n",
       "        text-align: right;\n",
       "    }\n",
       "</style>\n",
       "<table border=\"1\" class=\"dataframe\">\n",
       "  <thead>\n",
       "    <tr style=\"text-align: right;\">\n",
       "      <th></th>\n",
       "      <th>max_temp</th>\n",
       "      <th>mean_temp</th>\n",
       "      <th>min_temp</th>\n",
       "      <th>snow_on_grnd_(cm)</th>\n",
       "      <th>total_precip_(mm)</th>\n",
       "      <th>total_rain_(mm)</th>\n",
       "      <th>total_snow_(cm)</th>\n",
       "    </tr>\n",
       "  </thead>\n",
       "  <tbody>\n",
       "    <tr>\n",
       "      <th>0</th>\n",
       "      <td>-6.4</td>\n",
       "      <td>-11.6</td>\n",
       "      <td>-16.6</td>\n",
       "      <td>18.0</td>\n",
       "      <td>3.0</td>\n",
       "      <td>0.0</td>\n",
       "      <td>4.0</td>\n",
       "    </tr>\n",
       "    <tr>\n",
       "      <th>1</th>\n",
       "      <td>-21.0</td>\n",
       "      <td>-30.9</td>\n",
       "      <td>-40.5</td>\n",
       "      <td>24.0</td>\n",
       "      <td>0.0</td>\n",
       "      <td>0.0</td>\n",
       "      <td>0.0</td>\n",
       "    </tr>\n",
       "    <tr>\n",
       "      <th>2</th>\n",
       "      <td>-17.1</td>\n",
       "      <td>-31.5</td>\n",
       "      <td>-45.9</td>\n",
       "      <td>27.0</td>\n",
       "      <td>0.0</td>\n",
       "      <td>0.0</td>\n",
       "      <td>0.0</td>\n",
       "    </tr>\n",
       "    <tr>\n",
       "      <th>3</th>\n",
       "      <td>-23.1</td>\n",
       "      <td>-36.3</td>\n",
       "      <td>-49.5</td>\n",
       "      <td>27.0</td>\n",
       "      <td>0.0</td>\n",
       "      <td>0.0</td>\n",
       "      <td>0.0</td>\n",
       "    </tr>\n",
       "    <tr>\n",
       "      <th>4</th>\n",
       "      <td>-10.4</td>\n",
       "      <td>-18.0</td>\n",
       "      <td>-25.6</td>\n",
       "      <td>18.0</td>\n",
       "      <td>0.0</td>\n",
       "      <td>0.0</td>\n",
       "      <td>0.0</td>\n",
       "    </tr>\n",
       "  </tbody>\n",
       "</table>\n",
       "</div>"
      ],
      "text/plain": [
       "   max_temp  mean_temp  min_temp  snow_on_grnd_(cm)  total_precip_(mm)  \\\n",
       "0      -6.4      -11.6     -16.6               18.0                3.0   \n",
       "1     -21.0      -30.9     -40.5               24.0                0.0   \n",
       "2     -17.1      -31.5     -45.9               27.0                0.0   \n",
       "3     -23.1      -36.3     -49.5               27.0                0.0   \n",
       "4     -10.4      -18.0     -25.6               18.0                0.0   \n",
       "\n",
       "   total_rain_(mm)  total_snow_(cm)  \n",
       "0              0.0              4.0  \n",
       "1              0.0              0.0  \n",
       "2              0.0              0.0  \n",
       "3              0.0              0.0  \n",
       "4              0.0              0.0  "
      ]
     },
     "execution_count": 142,
     "metadata": {},
     "output_type": "execute_result"
    }
   ],
   "source": [
    "X = processed_df.drop(['date','total_count'], axis=1)\n",
    "X.head()\n",
    "#x_train.to_csv('train_df.csv')"
   ]
  },
  {
   "cell_type": "code",
   "execution_count": 143,
   "metadata": {},
   "outputs": [
    {
     "data": {
      "text/plain": [
       "array(['less than 2000', 'less than 2000', 'less than 2000',\n",
       "       'less than 2000', 'less than 2000'], dtype=object)"
      ]
     },
     "execution_count": 143,
     "metadata": {},
     "output_type": "execute_result"
    }
   ],
   "source": [
    "#y_test.to_csv('test_df.csv')\n",
    "y = processed_df['total_count'].values\n",
    "y[0:5]"
   ]
  },
  {
   "cell_type": "markdown",
   "metadata": {},
   "source": [
    "# 6. Data Normalization"
   ]
  },
  {
   "cell_type": "code",
   "execution_count": 144,
   "metadata": {},
   "outputs": [
    {
     "data": {
      "text/plain": [
       "array([[-0.93, -0.71, -0.41, -0.25, -0.31, -0.33,  0.03],\n",
       "       [-1.08, -0.91, -0.68, -0.19, -0.38, -0.33, -0.2 ],\n",
       "       [-1.04, -0.92, -0.74, -0.16, -0.38, -0.33, -0.2 ],\n",
       "       [-1.1 , -0.97, -0.78, -0.16, -0.38, -0.33, -0.2 ],\n",
       "       [-0.97, -0.77, -0.51, -0.25, -0.38, -0.33, -0.2 ]])"
      ]
     },
     "execution_count": 144,
     "metadata": {},
     "output_type": "execute_result"
    }
   ],
   "source": [
    "from sklearn import preprocessing\n",
    "\n",
    "X = preprocessing.StandardScaler().fit(X).transform(X)\n",
    "X[0:5]"
   ]
  },
  {
   "cell_type": "markdown",
   "metadata": {},
   "source": [
    "# 7. Train test split"
   ]
  },
  {
   "cell_type": "code",
   "execution_count": 145,
   "metadata": {},
   "outputs": [
    {
     "name": "stdout",
     "output_type": "stream",
     "text": [
      "Train set: (2585, 7) (2585,)\n",
      "Test set: (647, 7) (647,)\n"
     ]
    }
   ],
   "source": [
    "from sklearn.model_selection import train_test_split\n",
    "\n",
    "x_train, x_test, y_train, y_test = train_test_split( X, y, test_size=0.2, random_state = 4)\n",
    "\n",
    "print ('Train set:', x_train.shape,  y_train.shape)\n",
    "print ('Test set:', x_test.shape,  y_test.shape)"
   ]
  },
  {
   "cell_type": "markdown",
   "metadata": {},
   "source": [
    "# 8. Applying Classical Machine Learning Models: \n",
    "## (K-NN, Decision Tree, SVM, Logistic Regression)"
   ]
  },
  {
   "cell_type": "markdown",
   "metadata": {},
   "source": [
    "## (i) K-Nearest Neighbour (K-NN)"
   ]
  },
  {
   "cell_type": "code",
   "execution_count": 181,
   "metadata": {},
   "outputs": [
    {
     "name": "stdout",
     "output_type": "stream",
     "text": [
      "Accuracyies for 20 values ok K:  [0.7  0.67 0.72 0.71 0.73 0.73 0.74 0.75 0.76 0.75 0.76 0.76 0.75 0.75\n",
      " 0.74 0.75 0.76 0.76 0.75]\n"
     ]
    },
    {
     "data": {
      "image/png": "[encoded data removed]",
      "text/plain": [
       "<Figure size 432x288 with 1 Axes>"
      ]
     },
     "metadata": {
      "needs_background": "light"
     },
     "output_type": "display_data"
    },
    {
     "name": "stdout",
     "output_type": "stream",
     "text": [
      "The best accuracy was  0.7604327666151468 with value of k= 11\n"
     ]
    }
   ],
   "source": [
    "from sklearn.neighbors import KNeighborsClassifier\n",
    "Ks = 20\n",
    "mean_acc = np.zeros((Ks-1))\n",
    "std_acc = np.zeros((Ks-1))\n",
    "ConfustionMx = [];\n",
    "for n in range(1,Ks):\n",
    "    \n",
    "    #Train Model and Predict  \n",
    "    neigh = KNeighborsClassifier(n_neighbors = n).fit(x_train,y_train)\n",
    "    yhat=neigh.predict(x_test)\n",
    "    mean_acc[n-1] = metrics.accuracy_score(y_test, yhat)\n",
    "\n",
    "    \n",
    "    std_acc[n-1]=np.std(yhat==y_test)/np.sqrt(yhat.shape[0])\n",
    "\n",
    "print('Accuracyies for 20 values ok K: ',mean_acc)\n",
    "\n",
    "\n",
    "#VIsualization of the accuracy for all the K value\n",
    "plt.plot(range(1,Ks),mean_acc,'g')\n",
    "plt.fill_between(range(1,Ks),mean_acc - 1 * std_acc,mean_acc + 1 * std_acc, alpha=0.10)\n",
    "plt.legend(('Accuracy ', '+/- 3xstd'))\n",
    "plt.ylabel('Accuracy ')\n",
    "plt.xlabel('Number of Neighbors (K)')\n",
    "plt.tight_layout()\n",
    "plt.show()\n",
    "\n",
    "#Printing the best K value\n",
    "print( \"The best accuracy was \", mean_acc.max(), \"with value of k=\", mean_acc.argmax()+1)"
   ]
  },
  {
   "cell_type": "markdown",
   "metadata": {},
   "source": [
    "### (a) Confusion Matrix of K-NN"
   ]
  },
  {
   "cell_type": "code",
   "execution_count": 147,
   "metadata": {},
   "outputs": [],
   "source": [
    "from sklearn.metrics import classification_report, confusion_matrix\n",
    "import itertools"
   ]
  },
  {
   "cell_type": "code",
   "execution_count": 148,
   "metadata": {},
   "outputs": [],
   "source": [
    "def plot_confusion_matrix(cm, classes,\n",
    "                          normalize=False,\n",
    "                          title='Confusion matrix',\n",
    "                          cmap=plt.cm.Blues):\n",
    "    \"\"\"\n",
    "    This function prints and plots the confusion matrix.\n",
    "    Normalization can be applied by setting `normalize=True`.\n",
    "    \"\"\"\n",
    "    if normalize:\n",
    "        cm = cm.astype('float') / cm.sum(axis=1)[:, np.newaxis]\n",
    "        print(\"Normalized confusion matrix\")\n",
    "    else:\n",
    "        print('Confusion matrix, without normalization')\n",
    "\n",
    "    print(cm)\n",
    "\n",
    "    plt.imshow(cm, interpolation='nearest', cmap=cmap)\n",
    "    plt.title(title)\n",
    "    plt.colorbar()\n",
    "    tick_marks = np.arange(len(classes))\n",
    "    plt.xticks(tick_marks, classes, rotation=45)\n",
    "    plt.yticks(tick_marks, classes)\n",
    "\n",
    "    fmt = '.2f' if normalize else 'd'\n",
    "    thresh = cm.max() / 2.\n",
    "    for i, j in itertools.product(range(cm.shape[0]), range(cm.shape[1])):\n",
    "        plt.text(j, i, format(cm[i, j], fmt),\n",
    "                 horizontalalignment=\"center\",\n",
    "                 color=\"white\" if cm[i, j] > thresh else \"black\")\n",
    "\n",
    "    plt.tight_layout()\n",
    "    plt.ylabel('True label')\n",
    "    plt.xlabel('Predicted label')"
   ]
  },
  {
   "cell_type": "code",
   "execution_count": 149,
   "metadata": {},
   "outputs": [
    {
     "name": "stdout",
     "output_type": "stream",
     "text": [
      "                precision    recall  f1-score   support\n",
      "\n",
      " 2000 to 10000       0.68      0.59      0.63       236\n",
      "less than 2000       0.82      0.88      0.85       250\n",
      "    over 10000       0.71      0.76      0.73       161\n",
      "\n",
      "     micro avg       0.75      0.75      0.75       647\n",
      "     macro avg       0.74      0.74      0.74       647\n",
      "  weighted avg       0.74      0.75      0.74       647\n",
      "\n",
      "Confusion matrix, without normalization\n",
      "[[221  28   1]\n",
      " [ 46 140  50]\n",
      " [  1  38 122]]\n"
     ]
    },
    {
     "data": {
      "image/png": "[encoded data removed]",
      "text/plain": [
       "<Figure size 432x288 with 2 Axes>"
      ]
     },
     "metadata": {
      "needs_background": "light"
     },
     "output_type": "display_data"
    }
   ],
   "source": [
    "# Compute confusion matrix\n",
    "cnf_matrix = confusion_matrix(y_test, yhat, labels=[\"less than 2000\", \"2000 to 10000\", \"over 10000\"])\n",
    "np.set_printoptions(precision=2)\n",
    "\n",
    "print (classification_report(y_test, yhat))\n",
    "\n",
    "# Plot non-normalized confusion matrix\n",
    "plt.figure()\n",
    "plot_confusion_matrix(cnf_matrix, classes=[\"less than 2000\", \"2000 to 10000\", \"over 10000\"],normalize= False,  title='Confusion matrix')"
   ]
  },
  {
   "cell_type": "markdown",
   "metadata": {},
   "source": [
    "### (b) Accuracies of K-NN"
   ]
  },
  {
   "cell_type": "code",
   "execution_count": 150,
   "metadata": {},
   "outputs": [
    {
     "name": "stdout",
     "output_type": "stream",
     "text": [
      "jaccard_similarity_score for KNN: 0.75\n",
      "f1_score for KNN: 0.74\n",
      "LogLoss for KNN: 0.85\n"
     ]
    }
   ],
   "source": [
    "print(\"jaccard_similarity_score for KNN: %.2f\" %jaccard_similarity_score(y_test, yhat))\n",
    "print(\"f1_score for KNN: %.2f\" %f1_score(y_test, yhat,average='weighted'))\n",
    "print(\"LogLoss for KNN: %.2f\" % log_loss(y_test, neigh.predict_proba(x_test)))"
   ]
  },
  {
   "cell_type": "markdown",
   "metadata": {},
   "source": [
    "## (ii) Decission Trees"
   ]
  },
  {
   "cell_type": "code",
   "execution_count": 151,
   "metadata": {},
   "outputs": [
    {
     "data": {
      "text/plain": [
       "DecisionTreeClassifier(class_weight=None, criterion='entropy', max_depth=None,\n",
       "            max_features=None, max_leaf_nodes=None,\n",
       "            min_impurity_decrease=0.0, min_impurity_split=None,\n",
       "            min_samples_leaf=1, min_samples_split=2,\n",
       "            min_weight_fraction_leaf=0.0, presort=False, random_state=None,\n",
       "            splitter='best')"
      ]
     },
     "execution_count": 151,
     "metadata": {},
     "output_type": "execute_result"
    }
   ],
   "source": [
    "from sklearn.tree import DecisionTreeClassifier\n",
    "drugTree = DecisionTreeClassifier(criterion=\"entropy\")\n",
    "drugTree.fit(x_train,y_train)"
   ]
  },
  {
   "cell_type": "code",
   "execution_count": 152,
   "metadata": {},
   "outputs": [
    {
     "data": {
      "text/plain": [
       "array(['2000 to 10000', '2000 to 10000', '2000 to 10000', '2000 to 10000',\n",
       "       '2000 to 10000'], dtype=object)"
      ]
     },
     "execution_count": 152,
     "metadata": {},
     "output_type": "execute_result"
    }
   ],
   "source": [
    "# Prediction\n",
    "yhat=drugTree.predict(x_test)\n",
    "yhat[0:5]"
   ]
  },
  {
   "cell_type": "markdown",
   "metadata": {},
   "source": [
    "### (a) Confusion Matrix of Decission Trees"
   ]
  },
  {
   "cell_type": "code",
   "execution_count": 153,
   "metadata": {},
   "outputs": [
    {
     "name": "stdout",
     "output_type": "stream",
     "text": [
      "                precision    recall  f1-score   support\n",
      "\n",
      " 2000 to 10000       0.61      0.58      0.60       236\n",
      "less than 2000       0.85      0.86      0.86       250\n",
      "    over 10000       0.61      0.63      0.62       161\n",
      "\n",
      "     micro avg       0.70      0.70      0.70       647\n",
      "     macro avg       0.69      0.69      0.69       647\n",
      "  weighted avg       0.70      0.70      0.70       647\n",
      "\n",
      "Confusion matrix, without normalization\n",
      "[[216  31   3]\n",
      " [ 37 138  61]\n",
      " [  1  58 102]]\n"
     ]
    },
    {
     "data": {
      "image/png": "[encoded data removed]",
      "text/plain": [
       "<Figure size 432x288 with 2 Axes>"
      ]
     },
     "metadata": {
      "needs_background": "light"
     },
     "output_type": "display_data"
    }
   ],
   "source": [
    "# Compute confusion matrix\n",
    "cnf_matrix = confusion_matrix(y_test, yhat, labels=[\"less than 2000\", \"2000 to 10000\", \"over 10000\"])\n",
    "np.set_printoptions(precision=2)\n",
    "\n",
    "print (classification_report(y_test, yhat))\n",
    "\n",
    "# Plot non-normalized confusion matrix\n",
    "plt.figure()\n",
    "plot_confusion_matrix(cnf_matrix, classes=[\"less than 2000\", \"2000 to 10000\", \"over 10000\"],normalize= False,  title='Confusion matrix')"
   ]
  },
  {
   "cell_type": "markdown",
   "metadata": {},
   "source": [
    "### (b) Accuracies of Decission Trees"
   ]
  },
  {
   "cell_type": "code",
   "execution_count": 154,
   "metadata": {},
   "outputs": [
    {
     "name": "stdout",
     "output_type": "stream",
     "text": [
      "jaccard_similarity_score for Decission Trees: 0.70\n",
      "f1_score for Decission Trees: 0.70\n",
      "LogLoss for Decission Trees: 10.15\n"
     ]
    }
   ],
   "source": [
    "print(\"jaccard_similarity_score for Decission Trees: %.2f\" %jaccard_similarity_score(y_test, yhat))\n",
    "print(\"f1_score for Decission Trees: %.2f\" %f1_score(y_test, yhat,average='weighted'))\n",
    "print(\"LogLoss for Decission Trees: %.2f\" % log_loss(y_test, drugTree.predict_proba(x_test)))"
   ]
  },
  {
   "cell_type": "markdown",
   "metadata": {},
   "source": [
    "## (iii) Logistic Regression"
   ]
  },
  {
   "cell_type": "code",
   "execution_count": 155,
   "metadata": {},
   "outputs": [
    {
     "name": "stderr",
     "output_type": "stream",
     "text": [
      "C:\\ProgramData\\Anaconda3\\lib\\site-packages\\sklearn\\linear_model\\logistic.py:460: FutureWarning: Default multi_class will be changed to 'auto' in 0.22. Specify the multi_class option to silence this warning.\n",
      "  \"this warning.\", FutureWarning)\n"
     ]
    },
    {
     "data": {
      "text/plain": [
       "LogisticRegression(C=0.01, class_weight=None, dual=False, fit_intercept=True,\n",
       "          intercept_scaling=1, max_iter=100, multi_class='warn',\n",
       "          n_jobs=None, penalty='l2', random_state=None, solver='liblinear',\n",
       "          tol=0.0001, verbose=0, warm_start=False)"
      ]
     },
     "execution_count": 155,
     "metadata": {},
     "output_type": "execute_result"
    }
   ],
   "source": [
    "from sklearn.linear_model import LogisticRegression\n",
    "LR = LogisticRegression(C=0.01, solver='liblinear').fit(x_train,y_train)\n",
    "LR"
   ]
  },
  {
   "cell_type": "code",
   "execution_count": 156,
   "metadata": {},
   "outputs": [
    {
     "data": {
      "text/plain": [
       "array(['2000 to 10000', 'less than 2000', 'over 10000', '2000 to 10000',\n",
       "       '2000 to 10000'], dtype=object)"
      ]
     },
     "execution_count": 156,
     "metadata": {},
     "output_type": "execute_result"
    }
   ],
   "source": [
    "# Prediction\n",
    "yhat=LR.predict(x_test)\n",
    "yhat[0:5]"
   ]
  },
  {
   "cell_type": "markdown",
   "metadata": {},
   "source": [
    "### (a) Confusion Matrix of Logistic Regression"
   ]
  },
  {
   "cell_type": "code",
   "execution_count": 157,
   "metadata": {},
   "outputs": [
    {
     "name": "stdout",
     "output_type": "stream",
     "text": [
      "                precision    recall  f1-score   support\n",
      "\n",
      " 2000 to 10000       0.74      0.46      0.57       236\n",
      "less than 2000       0.78      0.94      0.85       250\n",
      "    over 10000       0.68      0.85      0.75       161\n",
      "\n",
      "     micro avg       0.74      0.74      0.74       647\n",
      "     macro avg       0.73      0.75      0.72       647\n",
      "  weighted avg       0.74      0.74      0.72       647\n",
      "\n",
      "Confusion matrix, without normalization\n",
      "[[234  16   0]\n",
      " [ 63 108  65]\n",
      " [  2  22 137]]\n"
     ]
    },
    {
     "data": {
      "image/png": "[encoded data removed]",
      "text/plain": [
       "<Figure size 432x288 with 2 Axes>"
      ]
     },
     "metadata": {
      "needs_background": "light"
     },
     "output_type": "display_data"
    }
   ],
   "source": [
    "# Compute confusion matrix\n",
    "cnf_matrix = confusion_matrix(y_test, yhat, labels=[\"less than 2000\", \"2000 to 10000\", \"over 10000\"])\n",
    "np.set_printoptions(precision=2)\n",
    "\n",
    "print (classification_report(y_test, yhat))\n",
    "\n",
    "# Plot non-normalized confusion matrix\n",
    "plt.figure()\n",
    "plot_confusion_matrix(cnf_matrix, classes=[\"less than 2000\", \"2000 to 10000\", \"over 10000\"],normalize= False,  title='Confusion matrix')"
   ]
  },
  {
   "cell_type": "markdown",
   "metadata": {},
   "source": [
    "### (b) Accuracies of Logistic Regression"
   ]
  },
  {
   "cell_type": "code",
   "execution_count": 158,
   "metadata": {},
   "outputs": [
    {
     "name": "stdout",
     "output_type": "stream",
     "text": [
      "jaccard_similarity_score for Logistic Regression: 0.74\n",
      "f1_score for Logistic Regression: 0.72\n",
      "LogLoss for Logistic Regression: 0.68\n"
     ]
    }
   ],
   "source": [
    "print(\"jaccard_similarity_score for Logistic Regression: %.2f\" %jaccard_similarity_score(y_test, yhat))\n",
    "print(\"f1_score for Logistic Regression: %.2f\" %f1_score(y_test, yhat,average='weighted'))\n",
    "print(\"LogLoss for Logistic Regression: %.2f\" % log_loss(y_test, LR.predict_proba(x_test)))"
   ]
  },
  {
   "cell_type": "markdown",
   "metadata": {},
   "source": [
    "## (iv) Support Vector Machine (SVM)"
   ]
  },
  {
   "cell_type": "code",
   "execution_count": 159,
   "metadata": {},
   "outputs": [
    {
     "name": "stderr",
     "output_type": "stream",
     "text": [
      "C:\\ProgramData\\Anaconda3\\lib\\site-packages\\sklearn\\svm\\base.py:196: FutureWarning: The default value of gamma will change from 'auto' to 'scale' in version 0.22 to account better for unscaled features. Set gamma explicitly to 'auto' or 'scale' to avoid this warning.\n",
      "  \"avoid this warning.\", FutureWarning)\n"
     ]
    },
    {
     "data": {
      "text/plain": [
       "SVC(C=1.0, cache_size=200, class_weight=None, coef0=0.0,\n",
       "  decision_function_shape='ovr', degree=3, gamma='auto_deprecated',\n",
       "  kernel='rbf', max_iter=-1, probability=True, random_state=None,\n",
       "  shrinking=True, tol=0.001, verbose=False)"
      ]
     },
     "execution_count": 159,
     "metadata": {},
     "output_type": "execute_result"
    }
   ],
   "source": [
    "from sklearn import svm\n",
    "clf = svm.SVC(kernel='rbf', probability= True)\n",
    "clf.fit(x_train, y_train)"
   ]
  },
  {
   "cell_type": "code",
   "execution_count": 160,
   "metadata": {},
   "outputs": [
    {
     "data": {
      "text/plain": [
       "array(['2000 to 10000', '2000 to 10000', 'over 10000', '2000 to 10000',\n",
       "       '2000 to 10000'], dtype=object)"
      ]
     },
     "execution_count": 160,
     "metadata": {},
     "output_type": "execute_result"
    }
   ],
   "source": [
    "# Prediction\n",
    "yhat=clf.predict(x_test)\n",
    "yhat[0:5]"
   ]
  },
  {
   "cell_type": "markdown",
   "metadata": {},
   "source": [
    "### (a) Confusion Matrix of SVM"
   ]
  },
  {
   "cell_type": "code",
   "execution_count": 161,
   "metadata": {},
   "outputs": [
    {
     "name": "stdout",
     "output_type": "stream",
     "text": [
      "                precision    recall  f1-score   support\n",
      "\n",
      " 2000 to 10000       0.69      0.60      0.64       236\n",
      "less than 2000       0.85      0.87      0.86       250\n",
      "    over 10000       0.69      0.81      0.74       161\n",
      "\n",
      "     micro avg       0.75      0.75      0.75       647\n",
      "     macro avg       0.74      0.76      0.75       647\n",
      "  weighted avg       0.75      0.75      0.75       647\n",
      "\n",
      "Confusion matrix, without normalization\n",
      "[[217  33   0]\n",
      " [ 36 141  59]\n",
      " [  1  30 130]]\n"
     ]
    },
    {
     "data": {
      "image/png": "[encoded data removed]",
      "text/plain": [
       "<Figure size 432x288 with 2 Axes>"
      ]
     },
     "metadata": {
      "needs_background": "light"
     },
     "output_type": "display_data"
    }
   ],
   "source": [
    "# Compute confusion matrix\n",
    "cnf_matrix = confusion_matrix(y_test, yhat, labels=[\"less than 2000\", \"2000 to 10000\", \"over 10000\"])\n",
    "np.set_printoptions(precision=2)\n",
    "\n",
    "print (classification_report(y_test, yhat))\n",
    "\n",
    "# Plot non-normalized confusion matrix\n",
    "plt.figure()\n",
    "plot_confusion_matrix(cnf_matrix, classes=[\"less than 2000\", \"2000 to 10000\", \"over 10000\"],normalize= False,  title='Confusion matrix')"
   ]
  },
  {
   "cell_type": "markdown",
   "metadata": {},
   "source": [
    "### (b) Accuracies of SVM"
   ]
  },
  {
   "cell_type": "code",
   "execution_count": 162,
   "metadata": {},
   "outputs": [
    {
     "name": "stdout",
     "output_type": "stream",
     "text": [
      "jaccard_similarity_score for SVM: 0.75\n",
      "f1_score for SVM: 0.75\n",
      "LogLoss for SVM: 0.53\n"
     ]
    }
   ],
   "source": [
    "print(\"jaccard_similarity_score for SVM: %.2f\" %jaccard_similarity_score(y_test, yhat))\n",
    "print(\"f1_score for SVM: %.2f\" %f1_score(y_test, yhat,average='weighted'))\n",
    "print(\"LogLoss for SVM: %.2f\" % log_loss(y_test, clf.predict_proba(x_test)))"
   ]
  },
  {
   "cell_type": "markdown",
   "metadata": {},
   "source": [
    "# 9. Result of Traditional ML techniques:"
   ]
  },
  {
   "cell_type": "markdown",
   "metadata": {},
   "source": [
    "## (i) The best classical machine learning classifier is SVM with 75% accuracy"
   ]
  },
  {
   "cell_type": "markdown",
   "metadata": {},
   "source": [
    "# 10. Applying Neural Network"
   ]
  },
  {
   "cell_type": "markdown",
   "metadata": {},
   "source": [
    "## (i) Data Preperation"
   ]
  },
  {
   "cell_type": "code",
   "execution_count": 163,
   "metadata": {},
   "outputs": [],
   "source": [
    "from sklearn.preprocessing import LabelEncoder\n",
    "le = LabelEncoder() "
   ]
  },
  {
   "cell_type": "code",
   "execution_count": 164,
   "metadata": {},
   "outputs": [],
   "source": [
    "y_train = le.fit_transform(y_train)\n",
    "y_test = le.fit_transform(y_test)"
   ]
  },
  {
   "cell_type": "markdown",
   "metadata": {},
   "source": [
    "## (ii) Building the Neural Network"
   ]
  },
  {
   "cell_type": "code",
   "execution_count": 165,
   "metadata": {},
   "outputs": [],
   "source": [
    "from keras.models import Sequential\n",
    "from keras.layers import Dense, Activation, Flatten"
   ]
  },
  {
   "cell_type": "code",
   "execution_count": 166,
   "metadata": {},
   "outputs": [],
   "source": [
    "model = Sequential()"
   ]
  },
  {
   "cell_type": "code",
   "execution_count": 167,
   "metadata": {},
   "outputs": [],
   "source": [
    "#input Layer\n",
    "model.add(Dense(2585, activation='relu', input_dim=7))\n",
    "\n",
    "#Specifying the number of neuron in hidden/ Dense Layer and type of activation function\n",
    "model.add(Dense(2585,activation= 'relu')) \n",
    "\n",
    "# Output Layer\n",
    "model.add(Dense(3,activation= 'softmax')) "
   ]
  },
  {
   "cell_type": "code",
   "execution_count": 168,
   "metadata": {},
   "outputs": [
    {
     "name": "stdout",
     "output_type": "stream",
     "text": [
      "_________________________________________________________________\n",
      "Layer (type)                 Output Shape              Param #   \n",
      "=================================================================\n",
      "dense_10 (Dense)             (None, 2585)              20680     \n",
      "_________________________________________________________________\n",
      "dense_11 (Dense)             (None, 2585)              6684810   \n",
      "_________________________________________________________________\n",
      "dense_12 (Dense)             (None, 3)                 7758      \n",
      "=================================================================\n",
      "Total params: 6,713,248\n",
      "Trainable params: 6,713,248\n",
      "Non-trainable params: 0\n",
      "_________________________________________________________________\n"
     ]
    }
   ],
   "source": [
    "model.summary()"
   ]
  },
  {
   "cell_type": "code",
   "execution_count": 169,
   "metadata": {},
   "outputs": [],
   "source": [
    "model.compile(loss = 'sparse_categorical_crossentropy',\n",
    "             optimizer = 'adam',\n",
    "             metrics = ['accuracy']) "
   ]
  },
  {
   "cell_type": "code",
   "execution_count": 176,
   "metadata": {},
   "outputs": [],
   "source": [
    "history = model.fit(x_train, y_train, validation_split=0.33, epochs=15, batch_size=32, verbose=0)\n",
    "#model.fit(x_train, y_train, epochs = 20, batch_size=32) #epochs means the iteration"
   ]
  },
  {
   "cell_type": "code",
   "execution_count": 177,
   "metadata": {},
   "outputs": [
    {
     "name": "stdout",
     "output_type": "stream",
     "text": [
      "dict_keys(['val_loss', 'val_acc', 'loss', 'acc'])\n"
     ]
    }
   ],
   "source": [
    "print(history.history.keys())"
   ]
  },
  {
   "cell_type": "markdown",
   "metadata": {},
   "source": [
    "# 11. Model Evaluatuion for Neural Network"
   ]
  },
  {
   "cell_type": "markdown",
   "metadata": {},
   "source": [
    "### (i) Accurtacies: F-test score:"
   ]
  },
  {
   "cell_type": "code",
   "execution_count": 178,
   "metadata": {},
   "outputs": [
    {
     "name": "stdout",
     "output_type": "stream",
     "text": [
      "647/647 [==============================] - 0s 443us/step\n"
     ]
    },
    {
     "data": {
      "text/plain": [
       "[0.5409502278339734, 0.7542503865830128]"
      ]
     },
     "execution_count": 178,
     "metadata": {},
     "output_type": "execute_result"
    }
   ],
   "source": [
    "model.evaluate(x_test, y_test)"
   ]
  },
  {
   "cell_type": "code",
   "execution_count": 179,
   "metadata": {},
   "outputs": [
    {
     "name": "stdout",
     "output_type": "stream",
     "text": [
      "Test Score: 54.095%\n",
      "Test Accuracy: 75.425%\n"
     ]
    }
   ],
   "source": [
    "loss, accuracy = model.evaluate(x_test, y_test, verbose = 0)\n",
    "print(f\"Test Score: {loss:.3%}\")\n",
    "print(f\"Test Accuracy: {accuracy:.3%}\")"
   ]
  },
  {
   "cell_type": "markdown",
   "metadata": {},
   "source": [
    "### (ii) Accuracy & loss graph"
   ]
  },
  {
   "cell_type": "code",
   "execution_count": 180,
   "metadata": {},
   "outputs": [
    {
     "data": {
      "image/png": "[encoded data removed]",
      "text/plain": [
       "<Figure size 432x288 with 1 Axes>"
      ]
     },
     "metadata": {
      "needs_background": "light"
     },
     "output_type": "display_data"
    },
    {
     "data": {
      "image/png": "[encoded data removed]",
      "text/plain": [
       "<Figure size 432x288 with 1 Axes>"
      ]
     },
     "metadata": {
      "needs_background": "light"
     },
     "output_type": "display_data"
    }
   ],
   "source": [
    "# summarize history for accuracy\n",
    "plt.plot(history.history['acc'])\n",
    "plt.plot(history.history['val_acc'])\n",
    "plt.title('Model accuracy')\n",
    "plt.ylabel('Accuracy')\n",
    "plt.xlabel('Epoch')\n",
    "plt.legend(['train', 'test'], loc='upper left')\n",
    "plt.show()\n",
    "\n",
    "# summarize history for loss\n",
    "plt.plot(history.history['loss'])\n",
    "plt.plot(history.history['val_loss'])\n",
    "plt.title('Model loss')\n",
    "plt.ylabel('Loss')\n",
    "plt.xlabel('Epoch')\n",
    "plt.legend(['train', 'test'], loc='upper left')\n",
    "plt.show()"
   ]
  }
 ],
 "metadata": {
  "kernelspec": {
   "display_name": "Python 3",
   "language": "python",
   "name": "python3"
  },
  "language_info": {
   "codemirror_mode": {
    "name": "ipython",
    "version": 3
   },
   "file_extension": ".py",
   "mimetype": "text/x-python",
   "name": "python",
   "nbconvert_exporter": "python",
   "pygments_lexer": "ipython3",
   "version": "3.7.3"
  }
 },
 "nbformat": 4,
 "nbformat_minor": 2
}
